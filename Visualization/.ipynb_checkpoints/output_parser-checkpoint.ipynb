{
 "cells": [
  {
   "cell_type": "code",
   "execution_count": 63,
   "metadata": {},
   "outputs": [],
   "source": [
    "import pandas as pd\n",
    "import os\n",
    "import shutil\n",
    "from datetime import datetime\n",
    "import glob"
   ]
  },
  {
   "cell_type": "code",
   "execution_count": 64,
   "metadata": {},
   "outputs": [],
   "source": [
    "path1 = '/Users/theojanson/Project/McGillPhysics/HelixRich/Code/Applications/HelixRich/HR-build/'\n",
    "path2 = '/Users/theojanson/Project/McGillPhysics/HelixRich/Code/Data/'\n",
    "file = 'cerenkov_test3.txt'"
   ]
  },
  {
   "cell_type": "code",
   "execution_count": 96,
   "metadata": {},
   "outputs": [],
   "source": [
    "def data_to_table(path, file):\n",
    "    try: \n",
    "        with open(path+file, encoding='utf-8-sig') as f:\n",
    "            content = f.readlines()\n",
    "            content = [x.strip() for x in content]\n",
    "    except: \n",
    "        return\n",
    "    dataframes = []\n",
    "    for i,line in enumerate(content):\n",
    "        if line == '':\n",
    "            pass\n",
    "        elif  line[0] == '#' and line[2] == 'P'  :\n",
    "            print(line)\n",
    "        elif line[0] == '#'and line[-1] == '.' :\n",
    "            print(line)\n",
    "            if i != 0:\n",
    "                df = pd.DataFrame({'Time': t, 'X': x, 'Y': y, 'Z': y,Energy': E})\n",
    "                dataframes.append(df)\n",
    "            t,x,y,z,E = [],[],[]\n",
    "            count = ''\n",
    "            for char in line:\n",
    "                if char.isnumeric():\n",
    "                    count += char\n",
    "        elif line[0].isnumeric() or line[0]=='-':\n",
    "            values = line.split()\n",
    "            x.append(float(values[0]))\n",
    "            y.append(float(values[1]))\n",
    "            E.append(float(values[2]))\n",
    "    return dataframes \n",
    "\n",
    "def get_event_info():\n",
    "    pass\n",
    "\n",
    "def remove_errors(df):\n",
    "    df = df.dropna(axis = 0)\n",
    "    df = df[abs(df['X']) < 200] #stay inside detector\n",
    "    df = df[abs(df['Y']) < 200]\n",
    "    return df\n",
    "\n",
    "def move_file():\n",
    "    now = datetime.now()\n",
    "    datapath = '/Users/theojanson/Project/McGillPhysics/HelixRich/Code/Data/'\n",
    "    date = now.strftime('%m.%d.%Y')\n",
    "    if not os.path.isdir(datapath+date):\n",
    "        os.mkdir(datapath + date) \n",
    "    #check for avalailable data\n",
    "    if os.path.isfile('/Users/theojanson/Project/McGillPhysics/HelixRich/Code/Applications/HelixRich/HR-build/HelixRich.out'):\n",
    "        date_time = now.strftime(\"%m.%d.%Y, %H:%M:%S\")\n",
    "        os.mkdir(datapath+'/'+date+'/'+date_time)\n",
    "        shutil.move('/Users/theojanson/Project/McGillPhysics/HelixRich/Code/Applications/HelixRich/HR-build/HelixRich.out',\n",
    "                    datapath+date+'/'+date_time+'/'+'HelixRich.out')\n",
    "        return datapath+date+'/'+date_time+'/'\n",
    "    else:\n",
    "        print('Please input a valid path')\n"
   ]
  },
  {
   "cell_type": "code",
   "execution_count": 97,
   "metadata": {},
   "outputs": [
    {
     "name": "stdout",
     "output_type": "stream",
     "text": [
      "Please input a valid path\n"
     ]
    }
   ],
   "source": [
    "path = move_file()\n",
    "dfs = data_to_table(path,'/HelixRich.out')"
   ]
  },
  {
   "cell_type": "code",
   "execution_count": null,
   "metadata": {},
   "outputs": [],
   "source": []
  }
 ],
 "metadata": {
  "kernelspec": {
   "display_name": "Python 3",
   "language": "python",
   "name": "python3"
  },
  "language_info": {
   "codemirror_mode": {
    "name": "ipython",
    "version": 3
   },
   "file_extension": ".py",
   "mimetype": "text/x-python",
   "name": "python",
   "nbconvert_exporter": "python",
   "pygments_lexer": "ipython3",
   "version": "3.7.4"
  }
 },
 "nbformat": 4,
 "nbformat_minor": 2
}
